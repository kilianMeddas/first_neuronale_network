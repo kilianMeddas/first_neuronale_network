{
 "cells": [
  {
   "cell_type": "code",
   "execution_count": 1,
   "metadata": {},
   "outputs": [],
   "source": [
    "import torch\n",
    "import torchvision\n",
    "import torch.nn as nn\n",
    "from torchvision import transforms\n",
    "from PIL import Image"
   ]
  },
  {
   "cell_type": "code",
   "execution_count": 4,
   "metadata": {},
   "outputs": [],
   "source": [
    "\n",
    "\n",
    "# Set device\n",
    "device = torch.device(\"cuda\" if torch.cuda.is_available() else \"mps\" if torch.backends.mps.is_available() else \"cpu\")\n",
    "\n",
    "# Load the model\n",
    "model_ft = torch.load('../data_model/model_ft_full.pth', weights_only=False)\n",
    "model_ft = model_ft.to(device)\n"
   ]
  },
  {
   "cell_type": "code",
   "execution_count": 5,
   "metadata": {},
   "outputs": [],
   "source": [
    "# Define the same data transforms used for training (just normalization for testing)\n",
    "transform = transforms.Compose([\n",
    "    transforms.Resize(256),\n",
    "    transforms.CenterCrop(224),\n",
    "    transforms.ToTensor(),\n",
    "    transforms.Normalize([0.485, 0.456, 0.406], [0.229, 0.224, 0.225])\n",
    "])\n",
    "\n",
    "def predict_image(image_path):\n",
    "    # Open and preprocess the image\n",
    "    image = Image.open(image_path)\n",
    "    image = transform(image).unsqueeze(0)  # Add batch dimension\n",
    "    \n",
    "    # Move the image to the correct device (CPU or GPU)\n",
    "    image = image.to(device)\n",
    "\n",
    "    # Predict using the model\n",
    "    with torch.no_grad():\n",
    "        outputs = model_ft(image)\n",
    "        _, predicted = torch.max(outputs, 1)\n",
    "    \n",
    "    return predicted.item()\n"
   ]
  },
  {
   "cell_type": "code",
   "execution_count": 13,
   "metadata": {},
   "outputs": [
    {
     "name": "stdout",
     "output_type": "stream",
     "text": [
      "Predicted class: lion\n",
      "Predicted class: panda\n",
      "Predicted class: rhinoceros\n",
      "Predicted class: elephant\n",
      "Predicted class: gorilla\n",
      "Predicted class: leopard\n"
     ]
    }
   ],
   "source": [
    "# Test the model with a new image\n",
    "image_path = ['../image_test/lion.jpeg','../image_test/panda.jpeg', '../image_test/rhino.jpeg', '../image_test/download.png', '../image_test/test_1.jpg', '../image_test/leopard.jpeg']  # Replace with your image path\n",
    "classe = ['elephant', 'gorilla', 'leopard', 'lion', 'panda', 'rhinoceros']    \n",
    "for image in image_path : \n",
    "    predicted_class = predict_image(image)\n",
    "    print(f\"Predicted class: {classe[predicted_class]}\")\n"
   ]
  }
 ],
 "metadata": {
  "kernelspec": {
   "display_name": "Python 3",
   "language": "python",
   "name": "python3"
  },
  "language_info": {
   "codemirror_mode": {
    "name": "ipython",
    "version": 3
   },
   "file_extension": ".py",
   "mimetype": "text/x-python",
   "name": "python",
   "nbconvert_exporter": "python",
   "pygments_lexer": "ipython3",
   "version": "3.13.0"
  }
 },
 "nbformat": 4,
 "nbformat_minor": 2
}
